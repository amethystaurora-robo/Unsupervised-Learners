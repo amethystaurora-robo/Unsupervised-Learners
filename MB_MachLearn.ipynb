{
 "cells": [
  {
   "cell_type": "code",
   "execution_count": 1,
   "metadata": {},
   "outputs": [],
   "source": [
    "import numpy as np \n",
    "import pandas as pd\n",
    "import seaborn as sns\n",
    "import matplotlib.pyplot as plt\n",
    "\n",
    "#import sckit for data preprocessing \n",
    "from sklearn.impute import SimpleImputer\n",
    "from sklearn.preprocessing import  RobustScaler, LabelEncoder\n",
    "from imblearn.over_sampling import SMOTE\n",
    "#import sckit unsupervised\n",
    "from sklearn.cluster import KMeans, AgglomerativeClustering\n",
    "#import sckit supervised\n",
    "from sklearn.ensemble import RandomForestClassifier\n",
    "from sklearn.tree import DecisionTreeClassifier\n",
    "from sklearn.linear_model import LogisticRegression\n",
    "from sklearn import tree\n",
    "#import sckit metrics and miscellaneous\n",
    "from sklearn.model_selection import train_test_split, GridSearchCV\n",
    "from sklearn.metrics import f1_score, accuracy_score, precision_score, recall_score, ConfusionMatrixDisplay, silhouette_score\n",
    "from sklearn.model_selection import StratifiedKFold"
   ]
  },
  {
   "cell_type": "markdown",
   "metadata": {},
   "source": [
    "**Import data**"
   ]
  },
  {
   "cell_type": "code",
   "execution_count": 10,
   "metadata": {},
   "outputs": [],
   "source": [
    "#Imports patient 1 dataframe. \n",
    "df_orig = pd.read_csv(\"patients_01.csv\")\n",
    "our_df = pd.read_csv('ourdata.txt')\n",
    "\n",
    "raw_df = df_orig.copy()\n",
    "\n",
    "#Converts specified columns to strings and lists relevant columns names depending on the data type.\n",
    "raw_df[[\"history_stroke\",\"walking_diff\", \"dissease\"]] = raw_df[[\"history_stroke\",\"walking_diff\", \"dissease\"]].astype(str)\n",
    "cat_features = raw_df.select_dtypes(include='object').columns.tolist()\n",
    "num_features = raw_df.select_dtypes(include=[\"float64\",\"int64\"]).columns.tolist()"
   ]
  },
  {
   "cell_type": "code",
   "execution_count": 4,
   "metadata": {},
   "outputs": [
    {
     "name": "stdout",
     "output_type": "stream",
     "text": [
      "      age  gender  bmi high_chol  chol_check history_stroke  \\\n",
      "0      68  female   20    normal     checked          False   \n",
      "1      54  female   47    normal     checked          False   \n",
      "2      55  female   30    normal     checked          False   \n",
      "3      44  female   19    normal  notchecked          False   \n",
      "4      61    male   32    normal     checked          False   \n",
      "...   ...     ...  ...       ...         ...            ...   \n",
      "5119   30  female   39    normal     checked          False   \n",
      "5120   44  female   25    normal         NaN          False   \n",
      "5121   51  female   32    normal     checked          False   \n",
      "5122   26  female   28    normal     checked          False   \n",
      "5123   21  female   21    normal     checked          False   \n",
      "\n",
      "     history_heart_disease history_smoking amount_activity  alcohol_misuse  \\\n",
      "0                    False           False          active             2.0   \n",
      "1                    False            True          active             1.0   \n",
      "2                    False           False          active             0.0   \n",
      "3                    False             NaN          active             6.0   \n",
      "4                    False           False             NaN             NaN   \n",
      "...                    ...             ...             ...             ...   \n",
      "5119                 False             NaN       notactive             3.0   \n",
      "5120                 False           False          active             2.0   \n",
      "5121                 False           False          active             NaN   \n",
      "5122                  True            True          active             NaN   \n",
      "5123                 False           False          active             1.0   \n",
      "\n",
      "     fruits vegetables  health_gen  health_ment  health_phys walking_diff  \\\n",
      "0      True       True         1.0          0.0          0.0        False   \n",
      "1      True       True         3.0          0.0          0.0        False   \n",
      "2      True       True         1.0          0.0          0.0        False   \n",
      "3      True       True         3.0         20.0          6.0        False   \n",
      "4      True        NaN         2.0          0.0          0.0         True   \n",
      "...     ...        ...         ...          ...          ...          ...   \n",
      "5119  False       True         2.0          7.0          0.0        False   \n",
      "5120   True       True         2.0          0.0          0.0        False   \n",
      "5121   True      False         2.0          0.0          0.0        False   \n",
      "5122  False       True         3.0          0.0          0.0        False   \n",
      "5123  False      False         2.0          2.0          0.0        False   \n",
      "\n",
      "     high_bp dissease  \n",
      "0     normal    False  \n",
      "1     normal    False  \n",
      "2       high    False  \n",
      "3     normal    False  \n",
      "4     normal    False  \n",
      "...      ...      ...  \n",
      "5119  normal    False  \n",
      "5120  normal    False  \n",
      "5121  normal    False  \n",
      "5122  normal    False  \n",
      "5123  normal    False  \n",
      "\n",
      "[4637 rows x 18 columns]\n"
     ]
    }
   ],
   "source": [
    "#Apply modifications removing non-sensical values (eg. BMI cannot be 0)\n",
    "raw_df = raw_df[raw_df[\"bmi\"] > 0]\n",
    "#As \n",
    "raw_df = raw_df[raw_df[\"health_gen\"] <= 30]\n",
    "raw_df = raw_df[raw_df[\"health_ment\"] <= 30]\n",
    "raw_df = raw_df[raw_df[\"health_phys\"] <= 30]\n",
    "print(raw_df)"
   ]
  },
  {
   "cell_type": "markdown",
   "metadata": {},
   "source": [
    "### **Pre-processing and Descriptive analysis**\n",
    "\n",
    "Here data is plotted on heatmap to determine whether there are some patterns in missing data to decide on missing data handling strategy. As it can be seen, highly missing pattern in smoking suggests a data not missing at random.  "
   ]
  },
  {
   "cell_type": "code",
   "execution_count": 5,
   "metadata": {},
   "outputs": [
    {
     "data": {
      "text/plain": [
       "Text(0.5, 1.0, 'Representations of missing values')"
      ]
     },
     "execution_count": 5,
     "metadata": {},
     "output_type": "execute_result"
    },
    {
     "data": {
      "image/png": "[encoded data removed]",
      "text/plain": [
       "<Figure size 640x480 with 2 Axes>"
      ]
     },
     "metadata": {},
     "output_type": "display_data"
    }
   ],
   "source": [
    "#Create a heatmap showing in yellow missing data\n",
    "ax = sns.heatmap(df_orig.isnull(), cmap=\"viridis\")\n",
    "# Turns column names on the x axis.\n",
    "ax.set_xticklabels(ax.get_xticklabels(), rotation=45, ha=\"right\")\n",
    "plt.title(\"Representations of missing values\")"
   ]
  },
  {
   "cell_type": "markdown",
   "metadata": {},
   "source": [
    "**Imputation strategy**\n",
    "\n",
    "*Numerical values*\n",
    "\n",
    "For numerical value Simple Imputation with the mean was deemed a successful route. This is because Simple Imputers have been found to perform quite well with strong learners (as further down the line it was decided that Random Forest and Decision Trees will be used. These are models considered to be strong, as they both show the ability of capturing complex relationships in data. \n",
    "\n",
    "Using SimpleImputer() method where data is missing at random, in combination with strong models (eg. RandomForestClassifier or DecisionTreeCLassifier), results in predictive outcomes which generally outperform models trained with data imputed using stronger imputation techniques KNNImputer or IterativeImputer. Hence, using this imputation strategy in combination with previously stated models is a valid route to take. \n",
    "\n",
    "*Categorical variables*\n",
    "\n",
    "As plot of missing data shows that  many more datapoints are missing in the in the category “smoker”. As there is a significant missing trend in this category compared to other categories, these data are imputed as “missing” as there is likely to be a undergoing trend in the missing data. This because it is likely that these data are not missing at random and there might be an underlying pattern (eg. lower age people are not comfortable saying they are smoking). \n",
    "\n",
    "The data frame is then forced to drop na for all other missing at random variables, as they do not show a patters of missingness (Missing at random, do not hold any statistical significance)."
   ]
  },
  {
   "cell_type": "code",
   "execution_count": 6,
   "metadata": {},
   "outputs": [
    {
     "ename": "KeyError",
     "evalue": "'disease'",
     "output_type": "error",
     "traceback": [
      "\u001b[0;31m---------------------------------------------------------------------------\u001b[0m",
      "\u001b[0;31mKeyError\u001b[0m                                  Traceback (most recent call last)",
      "\u001b[0;32m~/opt/anaconda3/lib/python3.9/site-packages/pandas/core/indexes/base.py\u001b[0m in \u001b[0;36mget_loc\u001b[0;34m(self, key, method, tolerance)\u001b[0m\n\u001b[1;32m   3628\u001b[0m             \u001b[0;32mtry\u001b[0m\u001b[0;34m:\u001b[0m\u001b[0;34m\u001b[0m\u001b[0;34m\u001b[0m\u001b[0m\n\u001b[0;32m-> 3629\u001b[0;31m                 \u001b[0;32mreturn\u001b[0m \u001b[0mself\u001b[0m\u001b[0;34m.\u001b[0m\u001b[0m_engine\u001b[0m\u001b[0;34m.\u001b[0m\u001b[0mget_loc\u001b[0m\u001b[0;34m(\u001b[0m\u001b[0mcasted_key\u001b[0m\u001b[0;34m)\u001b[0m\u001b[0;34m\u001b[0m\u001b[0;34m\u001b[0m\u001b[0m\n\u001b[0m\u001b[1;32m   3630\u001b[0m             \u001b[0;32mexcept\u001b[0m \u001b[0mKeyError\u001b[0m \u001b[0;32mas\u001b[0m \u001b[0merr\u001b[0m\u001b[0;34m:\u001b[0m\u001b[0;34m\u001b[0m\u001b[0;34m\u001b[0m\u001b[0m\n",
      "\u001b[0;32m~/opt/anaconda3/lib/python3.9/site-packages/pandas/_libs/index.pyx\u001b[0m in \u001b[0;36mpandas._libs.index.IndexEngine.get_loc\u001b[0;34m()\u001b[0m\n",
      "\u001b[0;32m~/opt/anaconda3/lib/python3.9/site-packages/pandas/_libs/index.pyx\u001b[0m in \u001b[0;36mpandas._libs.index.IndexEngine.get_loc\u001b[0;34m()\u001b[0m\n",
      "\u001b[0;32mpandas/_libs/hashtable_class_helper.pxi\u001b[0m in \u001b[0;36mpandas._libs.hashtable.PyObjectHashTable.get_item\u001b[0;34m()\u001b[0m\n",
      "\u001b[0;32mpandas/_libs/hashtable_class_helper.pxi\u001b[0m in \u001b[0;36mpandas._libs.hashtable.PyObjectHashTable.get_item\u001b[0;34m()\u001b[0m\n",
      "\u001b[0;31mKeyError\u001b[0m: 'disease'",
      "\nThe above exception was the direct cause of the following exception:\n",
      "\u001b[0;31mKeyError\u001b[0m                                  Traceback (most recent call last)",
      "\u001b[0;32m/var/folders/v1/ymptnwwx3x1b7_mw0nns09wr0000gn/T/ipykernel_12013/952598134.py\u001b[0m in \u001b[0;36m<module>\u001b[0;34m\u001b[0m\n\u001b[1;32m     48\u001b[0m \u001b[0;34m\u001b[0m\u001b[0m\n\u001b[1;32m     49\u001b[0m \u001b[0;31m#Train and test are used for initial supervised learning testing and exploring.\u001b[0m\u001b[0;34m\u001b[0m\u001b[0;34m\u001b[0m\u001b[0m\n\u001b[0;32m---> 50\u001b[0;31m \u001b[0mtrain_df\u001b[0m\u001b[0;34m,\u001b[0m \u001b[0mtest_df\u001b[0m \u001b[0;34m=\u001b[0m \u001b[0mtrain_test_split\u001b[0m\u001b[0;34m(\u001b[0m\u001b[0mraw_df\u001b[0m\u001b[0;34m,\u001b[0m \u001b[0mtest_size\u001b[0m\u001b[0;34m=\u001b[0m\u001b[0;36m0.2\u001b[0m\u001b[0;34m,\u001b[0m \u001b[0mrandom_state\u001b[0m\u001b[0;34m=\u001b[0m\u001b[0;36m42\u001b[0m\u001b[0;34m,\u001b[0m \u001b[0mstratify\u001b[0m\u001b[0;34m=\u001b[0m\u001b[0mraw_df\u001b[0m\u001b[0;34m[\u001b[0m\u001b[0;34m\"disease\"\u001b[0m\u001b[0;34m]\u001b[0m\u001b[0;34m)\u001b[0m\u001b[0;34m\u001b[0m\u001b[0;34m\u001b[0m\u001b[0m\n\u001b[0m\u001b[1;32m     51\u001b[0m \u001b[0mtrain_imputed\u001b[0m \u001b[0;34m=\u001b[0m \u001b[0mSimpleImputationEncoding\u001b[0m\u001b[0;34m(\u001b[0m\u001b[0mtrain_df\u001b[0m\u001b[0;34m)\u001b[0m\u001b[0;34m\u001b[0m\u001b[0;34m\u001b[0m\u001b[0m\n\u001b[1;32m     52\u001b[0m \u001b[0mtest_imputed\u001b[0m \u001b[0;34m=\u001b[0m \u001b[0mSimpleImputationEncoding\u001b[0m\u001b[0;34m(\u001b[0m\u001b[0mtest_df\u001b[0m\u001b[0;34m)\u001b[0m\u001b[0;34m\u001b[0m\u001b[0;34m\u001b[0m\u001b[0m\n",
      "\u001b[0;32m~/opt/anaconda3/lib/python3.9/site-packages/pandas/core/frame.py\u001b[0m in \u001b[0;36m__getitem__\u001b[0;34m(self, key)\u001b[0m\n\u001b[1;32m   3503\u001b[0m             \u001b[0;32mif\u001b[0m \u001b[0mself\u001b[0m\u001b[0;34m.\u001b[0m\u001b[0mcolumns\u001b[0m\u001b[0;34m.\u001b[0m\u001b[0mnlevels\u001b[0m \u001b[0;34m>\u001b[0m \u001b[0;36m1\u001b[0m\u001b[0;34m:\u001b[0m\u001b[0;34m\u001b[0m\u001b[0;34m\u001b[0m\u001b[0m\n\u001b[1;32m   3504\u001b[0m                 \u001b[0;32mreturn\u001b[0m \u001b[0mself\u001b[0m\u001b[0;34m.\u001b[0m\u001b[0m_getitem_multilevel\u001b[0m\u001b[0;34m(\u001b[0m\u001b[0mkey\u001b[0m\u001b[0;34m)\u001b[0m\u001b[0;34m\u001b[0m\u001b[0;34m\u001b[0m\u001b[0m\n\u001b[0;32m-> 3505\u001b[0;31m             \u001b[0mindexer\u001b[0m \u001b[0;34m=\u001b[0m \u001b[0mself\u001b[0m\u001b[0;34m.\u001b[0m\u001b[0mcolumns\u001b[0m\u001b[0;34m.\u001b[0m\u001b[0mget_loc\u001b[0m\u001b[0;34m(\u001b[0m\u001b[0mkey\u001b[0m\u001b[0;34m)\u001b[0m\u001b[0;34m\u001b[0m\u001b[0;34m\u001b[0m\u001b[0m\n\u001b[0m\u001b[1;32m   3506\u001b[0m             \u001b[0;32mif\u001b[0m \u001b[0mis_integer\u001b[0m\u001b[0;34m(\u001b[0m\u001b[0mindexer\u001b[0m\u001b[0;34m)\u001b[0m\u001b[0;34m:\u001b[0m\u001b[0;34m\u001b[0m\u001b[0;34m\u001b[0m\u001b[0m\n\u001b[1;32m   3507\u001b[0m                 \u001b[0mindexer\u001b[0m \u001b[0;34m=\u001b[0m \u001b[0;34m[\u001b[0m\u001b[0mindexer\u001b[0m\u001b[0;34m]\u001b[0m\u001b[0;34m\u001b[0m\u001b[0;34m\u001b[0m\u001b[0m\n",
      "\u001b[0;32m~/opt/anaconda3/lib/python3.9/site-packages/pandas/core/indexes/base.py\u001b[0m in \u001b[0;36mget_loc\u001b[0;34m(self, key, method, tolerance)\u001b[0m\n\u001b[1;32m   3629\u001b[0m                 \u001b[0;32mreturn\u001b[0m \u001b[0mself\u001b[0m\u001b[0;34m.\u001b[0m\u001b[0m_engine\u001b[0m\u001b[0;34m.\u001b[0m\u001b[0mget_loc\u001b[0m\u001b[0;34m(\u001b[0m\u001b[0mcasted_key\u001b[0m\u001b[0;34m)\u001b[0m\u001b[0;34m\u001b[0m\u001b[0;34m\u001b[0m\u001b[0m\n\u001b[1;32m   3630\u001b[0m             \u001b[0;32mexcept\u001b[0m \u001b[0mKeyError\u001b[0m \u001b[0;32mas\u001b[0m \u001b[0merr\u001b[0m\u001b[0;34m:\u001b[0m\u001b[0;34m\u001b[0m\u001b[0;34m\u001b[0m\u001b[0m\n\u001b[0;32m-> 3631\u001b[0;31m                 \u001b[0;32mraise\u001b[0m \u001b[0mKeyError\u001b[0m\u001b[0;34m(\u001b[0m\u001b[0mkey\u001b[0m\u001b[0;34m)\u001b[0m \u001b[0;32mfrom\u001b[0m \u001b[0merr\u001b[0m\u001b[0;34m\u001b[0m\u001b[0;34m\u001b[0m\u001b[0m\n\u001b[0m\u001b[1;32m   3632\u001b[0m             \u001b[0;32mexcept\u001b[0m \u001b[0mTypeError\u001b[0m\u001b[0;34m:\u001b[0m\u001b[0;34m\u001b[0m\u001b[0;34m\u001b[0m\u001b[0m\n\u001b[1;32m   3633\u001b[0m                 \u001b[0;31m# If we have a listlike key, _check_indexing_error will raise\u001b[0m\u001b[0;34m\u001b[0m\u001b[0;34m\u001b[0m\u001b[0m\n",
      "\u001b[0;31mKeyError\u001b[0m: 'disease'"
     ]
    }
   ],
   "source": [
    "def SimpleImputationEncoding(df_raw_init, categories=\"pass\",numerical=\"pass\"):\n",
    "    df_raw = df_raw_init.copy()\n",
    "    #If different sets of categories and numerical features are passed, those are used in the imputation. \n",
    "    if categories !=\"pass\" and numerical !=\"pass\": \n",
    "        bias_features = [\"history_smoking\"]\n",
    "        unbias_cfeatures = categories\n",
    "        unbias_nfeatures = numerical\n",
    "        df_raw[unbias_nfeatures] = df_raw.loc[:,unbias_nfeatures].astype(float, errors=\"ignore\").copy()\n",
    "        df_raw[bias_features] = df_raw.loc[:,bias_features].astype(str, errors=\"ignore\").copy()\n",
    "        \n",
    "        #Imputes values as missing and encodes them with Label encoder (manual use)\n",
    "        df_raw[bias_features] = SimpleImputer(strategy=\"constant\", fill_value=\"missing\").fit_transform(df_raw[bias_features])\n",
    "        #df_imputed[bias_features] = LabelEncoder().fit_transform( df_imputed[bias_features])\n",
    "        df_raw[bias_features] = df_raw.loc[:,bias_features].apply(lambda col: LabelEncoder().fit_transform(col))\n",
    "\n",
    "        #Imputes values as mean and scales them with increased robustness to outliers.\n",
    "        df_raw[unbias_nfeatures] = SimpleImputer(strategy=\"mean\").fit_transform(df_raw[unbias_nfeatures])\n",
    "        df_raw[unbias_nfeatures] = RobustScaler().fit_transform(df_raw[unbias_nfeatures])\n",
    "        #Removes na from remaining categorical values and encodes the unbias features.\n",
    "        df_raw.dropna()\n",
    "        df_raw[unbias_cfeatures] = df_raw.loc[:,unbias_cfeatures].apply(lambda col: LabelEncoder().fit_transform(col))\n",
    "\n",
    "        # further removes trailing NAs\n",
    "        return df_raw\n",
    "    \n",
    "    #if no categories and numerical are passed, then use default feature names. \n",
    "    else: \n",
    "        bias_features = [\"history_smoking\"]\n",
    "        unbias_cfeatures = ['gender', 'high_chol', \"walking_diff\",'chol_check', 'history_stroke', 'history_heart_disease', 'amount_activity', 'fruits', 'vegetables', 'high_bp']\n",
    "        unbias_nfeatures = ['age', 'bmi', 'health_gen', 'health_ment', 'health_phys',\"alcohol_misuse\"]\n",
    "        df_raw[unbias_nfeatures] = df_raw.loc[:,unbias_nfeatures].astype(float, errors=\"ignore\").copy()\n",
    "        df_raw[bias_features] = df_raw.loc[:,bias_features].astype(str, errors=\"ignore\").copy()\n",
    "        \n",
    "        #Imputes values as missing and encodes them with Label encoder (manual use)\n",
    "        df_raw[bias_features] = SimpleImputer(strategy=\"constant\", fill_value=\"missing\").fit_transform(df_raw[bias_features])\n",
    "        #df_imputed[bias_features] = LabelEncoder().fit_transform( df_imputed[bias_features])\n",
    "        df_raw[bias_features] = df_raw[bias_features].apply(lambda col: LabelEncoder().fit_transform(col))\n",
    "\n",
    "        #Imputes values as mean and scales them with increased robustness to outliers.\n",
    "        df_raw[unbias_nfeatures] = SimpleImputer(strategy=\"mean\").fit_transform(df_raw[unbias_nfeatures])\n",
    "        df_raw[unbias_nfeatures] = RobustScaler().fit_transform(df_raw[unbias_nfeatures])\n",
    "        #Removes na from remaining categorical values and encodes the unbias features.\n",
    "        df_raw.dropna()\n",
    "        df_raw[unbias_cfeatures] = df_raw.loc[:,unbias_cfeatures].apply(lambda col: LabelEncoder().fit_transform(col))\n",
    "\n",
    "        \n",
    "        return df_raw.dropna()\n",
    "\n",
    "#Train and test are used for initial supervised learning testing and exploring. \n",
    "train_df, test_df = train_test_split(raw_df, test_size=0.2, random_state=42, stratify=raw_df[\"disease\"])\n",
    "train_imputed = SimpleImputationEncoding(train_df)\n",
    "test_imputed = SimpleImputationEncoding(test_df)\n",
    "\n",
    "#Whole dataframe is used for unsupervised learning.\n",
    "whole_cfeatures = ['gender', 'high_chol', \"walking_diff\",'chol_check', 'history_stroke', 'history_heart_disease', 'amount_activity', 'fruits', 'vegetables', 'high_bp', \"disease\"]\n",
    "whole_nfeatures = ['age', 'bmi', 'health_gen', 'health_ment', 'health_phys',\"alcohol_misuse\"] \n",
    "imputed_df = SimpleImputationEncoding(raw_df, categories=whole_cfeatures, numerical=whole_nfeatures)"
   ]
  },
  {
   "cell_type": "code",
   "execution_count": 7,
   "metadata": {},
   "outputs": [
    {
     "ename": "NameError",
     "evalue": "name 'train_df' is not defined",
     "output_type": "error",
     "traceback": [
      "\u001b[0;31m---------------------------------------------------------------------------\u001b[0m",
      "\u001b[0;31mNameError\u001b[0m                                 Traceback (most recent call last)",
      "\u001b[0;32m/var/folders/v1/ymptnwwx3x1b7_mw0nns09wr0000gn/T/ipykernel_12013/2728209823.py\u001b[0m in \u001b[0;36m<module>\u001b[0;34m\u001b[0m\n\u001b[0;32m----> 1\u001b[0;31m \u001b[0msns\u001b[0m\u001b[0;34m.\u001b[0m\u001b[0mpairplot\u001b[0m\u001b[0;34m(\u001b[0m\u001b[0mtrain_df\u001b[0m\u001b[0;34m,\u001b[0m \u001b[0mhue\u001b[0m\u001b[0;34m=\u001b[0m\u001b[0;34m\"disease\"\u001b[0m\u001b[0;34m)\u001b[0m\u001b[0;34m\u001b[0m\u001b[0;34m\u001b[0m\u001b[0m\n\u001b[0m",
      "\u001b[0;31mNameError\u001b[0m: name 'train_df' is not defined"
     ]
    }
   ],
   "source": [
    "sns.pairplot(train_df, hue=\"disease\")"
   ]
  },
  {
   "cell_type": "code",
   "execution_count": 8,
   "metadata": {},
   "outputs": [
    {
     "ename": "NameError",
     "evalue": "name 'train_imputed' is not defined",
     "output_type": "error",
     "traceback": [
      "\u001b[0;31m---------------------------------------------------------------------------\u001b[0m",
      "\u001b[0;31mNameError\u001b[0m                                 Traceback (most recent call last)",
      "\u001b[0;32m/var/folders/v1/ymptnwwx3x1b7_mw0nns09wr0000gn/T/ipykernel_12013/1098101446.py\u001b[0m in \u001b[0;36m<module>\u001b[0;34m\u001b[0m\n\u001b[1;32m      9\u001b[0m \u001b[0;34m\u001b[0m\u001b[0m\n\u001b[1;32m     10\u001b[0m \u001b[0;31m#Corr matrix calling. Keep in mind that rows with missing values are automatically removed when determining a correlation matrx\u001b[0m\u001b[0;34m\u001b[0m\u001b[0;34m\u001b[0m\u001b[0m\n\u001b[0;32m---> 11\u001b[0;31m \u001b[0mcorr_mx\u001b[0m\u001b[0;34m(\u001b[0m\u001b[0mtrain_imputed\u001b[0m\u001b[0;34m)\u001b[0m\u001b[0;34m\u001b[0m\u001b[0;34m\u001b[0m\u001b[0m\n\u001b[0m",
      "\u001b[0;31mNameError\u001b[0m: name 'train_imputed' is not defined"
     ]
    }
   ],
   "source": [
    "# Correlation is: positive(greater than 0), negative(less than zero), not correlated (0)\n",
    "def corr_mx(pandas_df):\n",
    "    #Calculates correlation scores\n",
    "    correlation_matrix = pandas_df.corr()\n",
    "    # Create correlation matrix plot\n",
    "    plt.figure(figsize=(12, 10))\n",
    "    sns.heatmap(correlation_matrix, annot=True, cmap='YlGnBu', fmt=\".2f\", linewidths=.5)\n",
    "    plt.show()\n",
    "\n",
    "#Corr matrix calling. Keep in mind that rows with missing values are automatically removed when determining a correlation matrx\n",
    "corr_mx(train_imputed)"
   ]
  },
  {
   "cell_type": "markdown",
   "metadata": {},
   "source": [
    "### **Unsupervised learning**\n",
    "\n",
    "Due to multivariate nature of data, PCA is carried out to reduce dimensionality of data whilst preserving meningful relationships. This results into principal components, which are the orthogonal linear combinations of the original variables in a dataset. This results in values which allow plotting on a 2D graph, resulting into clusters based on multi-dimensional data.\n",
    "KMeans is an unsupervised learning technique used to cluster datapoints based on their distance from the nearest mean (centroid)  and initiate hypothesis formulation.\n",
    "Kmeans results are then overlayed on the PCA plot to identify data clusters.\n",
    "\n",
    "Further dimensionality reductions techniques were investigated. tSNE and UMAP, albeit mathematically different, operate on the same major non-linear capturing concept (explain better). This results in capturing of non linear relationships, which is better suited in dimensionality reduction for multivariate data with non-linear relationship. As it can be seen, tSNE and UMAP generate more visually distinct clusters when compared to PCA, suggesting that some non-linear relationships between variables can be involved in determining the disease. \n",
    "\n",
    "\n",
    "To determine best number of neighbours for KMeans, elbow plot highligting decrease of *Sum of squared distances* of samples to their closest cluster centre with different neighbours numbers is carried out. \n"
   ]
  },
  {
   "cell_type": "code",
   "execution_count": null,
   "metadata": {},
   "outputs": [],
   "source": [
    "#Dimension reduction libraries\n",
    "from sklearn.decomposition import PCA\n",
    "from sklearn.manifold import TSNE\n",
    "from umap import UMAP\n",
    "#Defines n of components in the PCA, applies dimensionality reduction on whole dataset\n",
    "#stores PCA results in dataframe and plots PC1 against PC2. \n",
    "pca = PCA(n_components=2)\n",
    "PCA_whole = pd.DataFrame(pca.fit_transform(imputed_df.iloc[:,:-1]))\n",
    "PCA_whole[\"Disease\"] = imputed_df.iloc[:,-1]\n",
    "PCA_whole.columns = [\"Principal Component 1\", \"Principal Component 2\", \"Disease\"]\n",
    "plt.figure(figsize = (10,10))\n",
    "     #first plot the data point themselves - use gray points\n",
    "ax = sns.scatterplot(x=\"Principal Component 1\", y=\"Principal Component 2\",data=PCA_whole ,alpha=0.5)\n",
    "plt.title(\"PCA of patient 1 dataset\", size=20)\n",
    "\n",
    "#Use UMAP for dimension reduction \n",
    "umap = UMAP(n_components=2, random_state=42, n_jobs=1)\n",
    "UMAP_whole = pd.DataFrame(umap.fit_transform(imputed_df.iloc[:,:-1]))\n",
    "UMAP_whole[\"Disease\"] = imputed_df.iloc[:,-1]\n",
    "UMAP_whole.columns = [\"Principal Component 1\", \"Principal Component 2\", \"Disease\"]\n",
    "plt.figure(figsize = (10,10))\n",
    "     #first plot the data point themselves - use gray points\n",
    "ax = sns.scatterplot(x=\"Principal Component 1\", y=\"Principal Component 2\",data=UMAP_whole, alpha=0.5)\n",
    "plt.title(\"UMAP of patient 1 dataset\", size=20)"
   ]
  },
  {
   "cell_type": "code",
   "execution_count": null,
   "metadata": {},
   "outputs": [],
   "source": [
    "#tSNE for dimension reduction: multiple perplexity values are tested. Best separation given by 30.\n",
    "for i in range (10,50,10): \n",
    "     tsne = TSNE(n_components=2,perplexity=i, random_state=42, n_iter=2000)\n",
    "     Tsne_whole = pd.DataFrame(tsne.fit_transform(imputed_df.iloc[:,:-1]))\n",
    "     Tsne_whole[\"Disease\"] = imputed_df.iloc[:,-1]\n",
    "     Tsne_whole.columns = [\"Principal Component 1\", \"Principal Component 2\", \"Disease\"]\n",
    "     plt.figure(figsize = (10,10))\n",
    "          #first plot the data point themselves - use gray points\n",
    "     ax = sns.scatterplot(x=\"Principal Component 1\", y=\"Principal Component 2\",data=Tsne_whole, alpha=0.5)\n",
    "     plt.title(f\"tSNE of patient 1 dataset, prxpl:{i}\", size=20)"
   ]
  },
  {
   "cell_type": "code",
   "execution_count": null,
   "metadata": {},
   "outputs": [],
   "source": [
    "#Checks whether tSNE plot changes based on multiple seeds. \n",
    "\n",
    "for seed in range (40,45):\n",
    "    tsne = TSNE(n_components=2,perplexity=40, random_state=seed, n_iter=2000)\n",
    "    Tsne_whole = pd.DataFrame(tsne.fit_transform(imputed_df.iloc[:,:-1]))\n",
    "    Tsne_whole[\"Disease\"] = imputed_df.iloc[:,-1]\n",
    "    Tsne_whole.columns = [\"Principal Component 1\", \"Principal Component 2\", \"Disease\"]\n",
    "    plt.figure(figsize = (10,10))\n",
    "        #first plot the data point themselves - use gray points\n",
    "    ax = sns.scatterplot(x=\"Principal Component 1\", y=\"Principal Component 2\",data=Tsne_whole,hue = \"Disease\", alpha=0.5)\n",
    "    plt.title(f\"tSNE of patient 1 dataset, seed:{seed} \", size=20)"
   ]
  },
  {
   "cell_type": "code",
   "execution_count": null,
   "metadata": {},
   "outputs": [],
   "source": [
    "#Ouputs best dimensionality reduction using tSNE.  \n",
    "tsne = TSNE(n_components=2,perplexity=40, random_state=42, n_iter=2000)\n",
    "Tsne_whole = pd.DataFrame(tsne.fit_transform(imputed_df.iloc[:,:-1]))\n",
    "Tsne_whole[\"Disease\"] = imputed_df.iloc[:,-1]\n",
    "Tsne_whole.columns = [\"Principal Component 1\", \"Principal Component 2\", \"Disease\"]\n",
    "plt.figure(figsize = (10,10))\n",
    "#first plot the data point themselves - use gray points\n",
    "ax = sns.scatterplot(x=\"Principal Component 1\", y=\"Principal Component 2\",data=Tsne_whole,hue = \"Disease\", alpha=0.5)\n",
    "plt.title(f\"tSNE of patient 1 dataset\", size=20)"
   ]
  },
  {
   "cell_type": "code",
   "execution_count": null,
   "metadata": {},
   "outputs": [],
   "source": [
    "#Determines best k-value for KMeans plot using elbow plot. \n",
    "def Kmean_elbow(dataframe, cluster_max):\n",
    "    means = []\n",
    "    inertias = []\n",
    "    for k in range(1,cluster_max):    \n",
    "    #Computes KMeans algorithm\n",
    "        kmeans = KMeans(n_clusters=k,n_init=\"auto\", random_state=42).fit(dataframe)\n",
    "        means.append(k)\n",
    "        inertias.append(kmeans.inertia_)\n",
    "    \n",
    "    #Plots Elbow plot using inertia metric. \n",
    "    plt.subplots(figsize=(10,5))\n",
    "    plt.plot(means, inertias, \"o-\")\n",
    "    plt.title(\"Elbow plot\")\n",
    "    plt.xlabel(\"Number of clusters\")\n",
    "    plt.ylabel(\"Sum of squared distances\")\n",
    "    plt.show()    \n",
    "Kmean_elbow(imputed_df, 10)\n",
    "\n",
    "#Layers KMeans output with best cluster_n on PCA plot as color. \n",
    "#Each color indicates one cluster \n",
    "k_out = KMeans(n_clusters=3, n_init=\"auto\", random_state=42).fit(imputed_df.iloc[:,:-1])\n",
    "centroids = k_out.cluster_centers_\n",
    "cent_df = pd.DataFrame(centroids)\n",
    "\n",
    "#Plot TSNE overlaying with clustering algorithms ouputs. \n",
    "plt.figure(figsize = (10,10))   \n",
    "ax = sns.scatterplot(x=\"Principal Component 1\", y=\"Principal Component 2\",data=Tsne_whole ,hue=k_out.labels_, palette=\"viridis\", edgecolor='grey')\n",
    "plt.title(\"tSNE with KMeans labelling\")\n",
    "\n",
    "#Plot UMAP overlaying with clustering algorithms ouputs. \n",
    "plt.figure(figsize = (10,10))   \n",
    "ax = sns.scatterplot(x=\"Principal Component 1\", y=\"Principal Component 2\",data=UMAP_whole ,hue=k_out.labels_, palette=\"viridis\", edgecolor='grey')\n",
    "plt.title(\"UMAP with KMeans labelling\")"
   ]
  },
  {
   "cell_type": "code",
   "execution_count": null,
   "metadata": {},
   "outputs": [],
   "source": [
    "#determines best parameters for hierachichal (Agglomerative) clustering\n",
    "def agg_clustering(data, num_clusters):\n",
    "    cluster_model = AgglomerativeClustering(n_clusters=num_clusters,\n",
    "                                            linkage='average')\n",
    " \n",
    "    clusters = cluster_model.fit_predict(data)\n",
    " \n",
    "    score = silhouette_score(data,cluster_model.labels_,metric='euclidean')\n",
    "    return score\n",
    "\n",
    "#Dataframe with calculated silhoutte scores\n",
    "cluster_storage = pd.DataFrame(columns=[\"Cluster_num\", \"Score\"])\n",
    "\n",
    "for num_clus in range(2,10):\n",
    "    # Assuming agg_clustering returns a single score\n",
    "    score = agg_clustering(imputed_df.iloc[:, :-1], num_clus)\n",
    "\n",
    "    # Add a new row to the DataFrame\n",
    "    cluster_storage.loc[len(cluster_storage)] = [num_clus, score]\n"
   ]
  },
  {
   "cell_type": "code",
   "execution_count": null,
   "metadata": {},
   "outputs": [],
   "source": [
    "#Plots silhoutte score for agglomerative clustering\n",
    "sns.lineplot(data=cluster_storage,x=\"Cluster_num\", y=\"Score\")\n",
    "plt.title(\"Silhoutte score for Agglomerative clustering\", size=20)\n",
    "plt.xlabel(xlabel=\"Cluster size\" ,size=15)\n",
    "plt.ylabel(ylabel=\"Score\",size=15)\n"
   ]
  },
  {
   "cell_type": "code",
   "execution_count": null,
   "metadata": {},
   "outputs": [],
   "source": [
    "#Determines hierachical clustering labels.\n",
    "agg_out = AgglomerativeClustering(linkage=\"average\", n_clusters=2).fit(imputed_df.iloc[:,:-1])\n",
    "\n",
    "#Plot TSNE overlaying with clustering algorithms ouputs. \n",
    "plt.figure(figsize = (10,10))   \n",
    "ax = sns.scatterplot(x=\"Principal Component 1\", y=\"Principal Component 2\",data=Tsne_whole ,hue=agg_out.labels_, palette=\"viridis\", edgecolor='grey')\n",
    "plt.title(\"tSNE with AgglomerativeClustering labelling\")\n",
    "\n",
    "#Plot UMAP overlaying with clustering algorithms ouputs. \n",
    "plt.figure(figsize = (10,10))   \n",
    "ax = sns.scatterplot(x=\"Principal Component 1\", y=\"Principal Component 2\",data=UMAP_whole ,hue=agg_out.labels_, palette=\"viridis\", edgecolor='grey')\n",
    "plt.title(\"UMAP with AgglomerativeClustering labelling\")"
   ]
  },
  {
   "cell_type": "markdown",
   "metadata": {},
   "source": [
    "### **Supervised analysis**\n",
    "\n",
    "Models tested to determine disease based on recorded features were: RandomForest Classifier, and DecisionTrees. \n",
    "\n",
    "Due to disease imbalances, training data where resampled to ensure a balanced classed for better training of model, resulting in better model generalization."
   ]
  },
  {
   "cell_type": "markdown",
   "metadata": {},
   "source": [
    "Strong over-representation of healthy individuals. Use of imbalanced API will allow to resample some \"Unhealthy patient\", balancing the classes in the dataset and allowing more accurate prediction.\n",
    "\n",
    "Resampling to balance class imbalance has been carried out."
   ]
  },
  {
   "cell_type": "code",
   "execution_count": null,
   "metadata": {},
   "outputs": [],
   "source": [
    "imputed_df[\"disease\"].value_counts()"
   ]
  },
  {
   "cell_type": "code",
   "execution_count": null,
   "metadata": {},
   "outputs": [],
   "source": [
    "#Split imputed test/train dataframe. Stratification and imputation is inhereited from relative variables. \n",
    "OG_X_train = train_imputed.iloc[:,:-1]\n",
    "OG_y_train = train_imputed[\"disease\"]\n",
    "X_test = test_imputed.iloc[:,:-1]\n",
    "y_test = test_imputed[\"disease\"]\n",
    "\n",
    "from imblearn.over_sampling import RandomOverSampler\n",
    "ros = RandomOverSampler(random_state=42)\n",
    "X_train, y_train = ros.fit_resample(OG_X_train, OG_y_train)\n",
    "print(y_train.value_counts())\n",
    "\n",
    "#DO THIS WITH MULTIPLE MODELS SO YOU HAVE GROUND FOR DISCUSSION\n",
    "    #Choose a model  (RandomForest deals well with encoded data)\n",
    "    #Tune hyperparameters\n",
    "    #Train model \n",
    "    #Carry out stratified crossvalidation \n",
    "    #Test data label prediction\n",
    "    #Model evaluation: Produce confusion matrix, calculate different scores describing model validity (F1, accuracy,...).  "
   ]
  },
  {
   "cell_type": "code",
   "execution_count": null,
   "metadata": {},
   "outputs": [],
   "source": [
    "#STRATIFIED MODEL EVALUATION function: \n",
    "def strat_valid(X_frame, Y_frame, model, categories=\"pass\", numerical=\"pass\"):\n",
    "    \n",
    "    # Defines number of folds. \n",
    "    kf = StratifiedKFold(n_splits=10, random_state=42, shuffle=True)\n",
    "    #Defines lists to store fold index (k_list). Other lists store corresponding metrics scores.\n",
    "    k_list = []\n",
    "    acc_score = []\n",
    "    f1_score_list = []\n",
    "    prec_list = []\n",
    "    recall_list = []\n",
    "    #Loops over stratifications for both train and test data.\n",
    "    for count_k,(train_index, test_index) in enumerate(kf.split(X_frame, Y_frame)):\n",
    "\n",
    "        #Defines new train/test datasets. \n",
    "        OG_X_train = X_frame.iloc[train_index]\n",
    "        X_test  = X_frame.iloc[test_index]\n",
    "        OG_y_train = Y_frame.iloc[train_index]\n",
    "        y_test  = Y_frame.iloc[test_index]\n",
    "\n",
    "        #Fixes y-variable imbalance by randomly resampling lower classes.\n",
    "        \n",
    "        from imblearn.over_sampling import RandomOverSampler\n",
    "        ros = RandomOverSampler(random_state=42)\n",
    "        X_train, y_train = ros.fit_resample(OG_X_train, OG_y_train)\n",
    "\n",
    "        #Imputes and transform data at each K fold for the dataframes.\n",
    "        X_train_imp = SimpleImputationEncoding(X_train, categories, numerical)\n",
    "        y_train_enc = LabelEncoder().fit_transform(y_train)\n",
    "        X_test_imp = SimpleImputationEncoding(X_test, categories, numerical)\n",
    "        y_test_enc = LabelEncoder().fit_transform(y_test)\n",
    "        \n",
    "        #Trains and Predicts using the defined model.  \n",
    "        dtree = model.fit(X_train_imp,y_train_enc)\n",
    "        y_predicted = dtree.predict(X_test_imp)\n",
    "        \n",
    "        #Defines variables for scores a\n",
    "        accuracy = accuracy_score(y_test_enc,y_predicted)\n",
    "        f1 = f1_score(y_test_enc,y_predicted, average=\"weighted\")\n",
    "        precision = precision_score(y_test_enc,y_predicted, average=\"weighted\")\n",
    "        recall = recall_score(y_test_enc,y_predicted, average=\"weighted\")\n",
    "        #conf_max = confusion_matrix(y_test,y_test_predicted)\n",
    "\n",
    "        #For each stratification print k-fold number and confusion matrix by comparing predicted label with actual label. \n",
    "        print(f'Fold run (k={count_k})')\n",
    "        k_list.append(count_k)\n",
    "        ConfusionMatrixDisplay.from_predictions(y_test_enc, y_predicted)\n",
    "        plt.figure(figsize=(1,1))\n",
    "        plt.show()\n",
    "        #Appends metrics value to respective list. \n",
    "        acc_score.append(accuracy)\n",
    "        f1_score_list.append(f1)\n",
    "        prec_list.append(precision)\n",
    "        recall_list.append(recall)\n",
    "    #Creates output performance metrics dataframe.\n",
    "    metrics_df = pd.DataFrame(columns=[\"Count_k\",\"Accuracy_score\", \"F1 score\", \"Precision score\"])\n",
    "    metrics_df[\"Count_k\"] = k_list\n",
    "    metrics_df[\"Accuracy_score\"] = acc_score\n",
    "    metrics_df[\"F1 score\"] = f1_score_list\n",
    "    metrics_df[\"Precision score\"] = prec_list\n",
    "    metrics_df[\"Recall score\"] = recall_list\n",
    "\n",
    "    #returns a dataframe with all the metrics ordered by k-fold. \n",
    "    return metrics_df"
   ]
  },
  {
   "cell_type": "markdown",
   "metadata": {},
   "source": [
    "**Random Forest classifier**\n",
    "\n",
    "Factors considered during model choice.\n",
    "\n",
    "*Analysis goal:* predict whether a patient with some observed metabolic features has a disease or not.\n",
    "\n",
    "*Model complexity:* a complex model is required due to multivariate origin of the problem. Furthermore, as part of the data is likely missing not at random, RandomForest classifier is capabel of handling complex dataset with missing values encoded as such.  This is due to:\n",
    "\n",
    "  + Non-Parametric nature: doesnt make assumptions about data distribution. \n",
    "  + Ensemble based model: uses multiple trees and uses the most likely outcome\n",
    "  + Robust to noise: using multiple trees.\n",
    "  + Non-Linear relationships: as it is an ensemble model, RandomForestClassifier is capable of capturing non linear relationships, making it more suitable for this analysis, as seen by running tSNE and UMAP. \n",
    "\n",
    "*Scalability and training time:* O(k * m * n * log(n)), results in longer training time. To be noted it can be parallelized grwoing each tree indipendently, which noteceably speeds up the process. In this coursework, training time did play a big factors in model choice, due to dataset size being relatively small (~3840 samples after imputation and splitting).\n",
    "\n",
    "*Other factors:* Chosen as it classifies data and deals well with encoded data. "
   ]
  },
  {
   "cell_type": "code",
   "execution_count": null,
   "metadata": {},
   "outputs": [],
   "source": [
    "#Using the RandomForestClassifier\n",
    "#Finds best hyper-parameters \n",
    "parameters = {\n",
    "    'criterion':('gini', 'entropy'), \n",
    "    'max_depth':[1,2,3,4,5,6,7,8,9,10],\n",
    "    'min_samples_leaf':[2,5,6,7,8,10,11]\n",
    "}\n",
    "#define RandomForest model and determine best hyperparameters with GridSearchCV. Random state is set to allow result reproduceability. \n",
    "pines = RandomForestClassifier(random_state=42)\n",
    "pines.fit(X_train,y_train)\n",
    "pines_gsearch = GridSearchCV(pines, parameters, cv=5,scoring='balanced_accuracy') # weighted == F1 Measure for multi-class\n",
    "grid_search = pines_gsearch.fit(X_train, y_train)\n",
    "\n",
    "#Outputs best parameter from grid search estimation. \n",
    "pines_gsearch.best_estimator_"
   ]
  },
  {
   "cell_type": "code",
   "execution_count": null,
   "metadata": {},
   "outputs": [],
   "source": [
    "#Train model with tuned hyperparameters. Random state is set to 42 for reproducibility (and because it's the answer to everything in the universe). \n",
    "pines = RandomForestClassifier(criterion=\"entropy\",max_depth=10,min_samples_leaf=2,random_state=42)\n",
    "#Defines feature and prediction dataframes to initizialize a Stratified K fold simulation. \n",
    "X = raw_df.iloc[:,:-1]\n",
    "y = raw_df[\"disease\"]\n",
    "#Carrys out model evaluation and outputs metrics in a dataframe. \n",
    "metrics_RFC = strat_valid(X,y,pines)\n",
    "print(metrics_RFC)"
   ]
  },
  {
   "cell_type": "code",
   "execution_count": 12,
   "metadata": {},
   "outputs": [
    {
     "ename": "NameError",
     "evalue": "name 'pines' is not defined",
     "output_type": "error",
     "traceback": [
      "\u001b[0;31m---------------------------------------------------------------------------\u001b[0m",
      "\u001b[0;31mNameError\u001b[0m                                 Traceback (most recent call last)",
      "\u001b[0;32m/var/folders/v1/ymptnwwx3x1b7_mw0nns09wr0000gn/T/ipykernel_12013/841156017.py\u001b[0m in \u001b[0;36m<module>\u001b[0;34m\u001b[0m\n\u001b[1;32m      1\u001b[0m \u001b[0;31m#Determines feature importance based on RFC model.\u001b[0m\u001b[0;34m\u001b[0m\u001b[0;34m\u001b[0m\u001b[0m\n\u001b[0;32m----> 2\u001b[0;31m \u001b[0mft_import\u001b[0m \u001b[0;34m=\u001b[0m \u001b[0mpines\u001b[0m\u001b[0;34m.\u001b[0m\u001b[0mfeature_importances_\u001b[0m\u001b[0;34m\u001b[0m\u001b[0;34m\u001b[0m\u001b[0m\n\u001b[0m\u001b[1;32m      3\u001b[0m \u001b[0;34m\u001b[0m\u001b[0m\n\u001b[1;32m      4\u001b[0m \u001b[0;31m#Sorts features from most important to least important.\u001b[0m\u001b[0;34m\u001b[0m\u001b[0;34m\u001b[0m\u001b[0m\n\u001b[1;32m      5\u001b[0m \u001b[0msorted_idx\u001b[0m \u001b[0;34m=\u001b[0m \u001b[0mft_import\u001b[0m\u001b[0;34m.\u001b[0m\u001b[0margsort\u001b[0m\u001b[0;34m(\u001b[0m\u001b[0;34m)\u001b[0m\u001b[0;34m[\u001b[0m\u001b[0;34m:\u001b[0m\u001b[0;34m:\u001b[0m\u001b[0;34m-\u001b[0m\u001b[0;36m1\u001b[0m\u001b[0;34m]\u001b[0m\u001b[0;34m\u001b[0m\u001b[0;34m\u001b[0m\u001b[0m\n",
      "\u001b[0;31mNameError\u001b[0m: name 'pines' is not defined"
     ]
    }
   ],
   "source": [
    "#Determines feature importance based on RFC model. \n",
    "ft_import = pines.feature_importances_\n",
    "\n",
    "#Sorts features from most important to least important.\n",
    "sorted_idx = ft_import.argsort()[::-1]\n",
    "name_sort = imputed_df.columns[sorted_idx]\n",
    "importa_sort = ft_import[sorted_idx]\n",
    "\n",
    "#Plot importances based on gini impurity. \n",
    "sns.set(rc={'figure.figsize':(11.7,8.27)})\n",
    "sns.barplot(x=importa_sort, y=name_sort, palette=\"viridis\")\n",
    "plt.title(\"Feature importance based on Gini impurity with RFC model\", fontsize= 20)\n",
    "plt.xlabel(\"Feature importance\", fontsize= 15)"
   ]
  },
  {
   "cell_type": "markdown",
   "metadata": {},
   "source": [
    "**Removing most important feature from RandomForestClassifier**\n",
    "\n",
    "According to previous analysis it is General health feature. "
   ]
  },
  {
   "cell_type": "code",
   "execution_count": null,
   "metadata": {},
   "outputs": [],
   "source": [
    "parameters = {\n",
    "    'criterion':('gini', 'entropy'), \n",
    "    'max_depth':[1,2,3,4,5,6,7,8,9,10],\n",
    "    'min_samples_leaf':[2,5,6,7,8,10,11]\n",
    "}\n",
    "#define RandomForest model and determine best hyperparameters with GridSearchCV. Random state is set to allow result reproduceability. \n",
    "pines = RandomForestClassifier(random_state=42)\n",
    "pines.fit(X_train.drop(columns=[\"health_gen\"]),y_train)\n",
    "pines_gsearch = GridSearchCV(pines, parameters, cv=5,scoring='balanced_accuracy') # weighted == F1 Measure for multi-class\n",
    "grid_search = pines_gsearch.fit(X_train, y_train)\n",
    "\n",
    "#Outputs best parameter from grid search estimation. \n",
    "pines_gsearch.best_estimator_"
   ]
  },
  {
   "cell_type": "markdown",
   "metadata": {},
   "source": [
    "As it can be seen below, removing health_gen feature results in overall improvement in model accuracy. Although counterintuitive, this can be expected in some scenarios. For instance, as RandomForestsClassifiers are prone to overfitting in case of excessive trees amounts, removing the variable that causes could result in improvement of the model. In this case, the most important variable could be causing overfitting resulting in model improvement in case of removal.  \n",
    "\n",
    "Furthermore, the removed feature could be adding noise to the model, and its removal would result in better generalization of the model. \n",
    "\n",
    "To further improve the model, less relevant variables could be removed (eg. 'chol_check','fruits', 'vegetables'), resulting in better model fitting. \n",
    "\n",
    "As multiple features are dropped, the average recall score improves by ~10%. This suggests that not all features are involved in predicting diseases and that they add noise to the model.  "
   ]
  },
  {
   "cell_type": "code",
   "execution_count": null,
   "metadata": {},
   "outputs": [],
   "source": [
    "#Train model with tuned hyperparameters. Random state is set\n",
    "pines = RandomForestClassifier(criterion=\"log_loss\",max_depth=9,min_samples_leaf=2,random_state=42)\n",
    "#Defines feature and prediction dataframes to initizialize a Stratified K fold simulation. \n",
    "X_tot = raw_df.iloc[:,:-1]\n",
    "X_missFeat= X_tot.drop(columns=[\"health_gen\",'chol_check','fruits', 'vegetables'])\n",
    "y = raw_df[\"disease\"]\n",
    "#Carrys out model evaluation\n",
    "metrics_RFC = strat_valid(X_missFeat,y,pines,\n",
    "                          categories=['gender', 'high_chol', \"walking_diff\", 'history_stroke', 'history_heart_disease', 'amount_activity', 'high_bp'],\n",
    "                          numerical=['age', 'bmi','health_ment', 'health_phys',\"alcohol_misuse\"])\n",
    "print(metrics_RFC)\n"
   ]
  },
  {
   "cell_type": "markdown",
   "metadata": {},
   "source": [
    "**Decision tree Classifier** Another supervised learning method as a test."
   ]
  },
  {
   "cell_type": "code",
   "execution_count": null,
   "metadata": {},
   "outputs": [],
   "source": [
    "#Randomly determines Decision tree hyper-parameters and checks all possible combinations to use. \n",
    "parameters = {\n",
    "    'criterion':('gini', 'entropy'), \n",
    "    'max_depth':[1,2,3,4,5,6,7,8,9,10],\n",
    "    'min_samples_leaf':[2,5,6,7,8,10,11],\n",
    "    \"max_features\":(\"sqrt\", \"log2\")\n",
    "}\n",
    "#define DecisionTree model and determine best hyperparameters with GridSearchCV. \n",
    "oak = DecisionTreeClassifier(random_state=42)\n",
    "oak.fit(X_train,y_train)\n",
    "oak_gsearch = GridSearchCV(oak, parameters, cv=5,scoring='balanced_accuracy') # weighted == F1 Measure for multi-class\n",
    "grid_search = oak_gsearch.fit(X_train, y_train)\n",
    "\n",
    "#Outputs best parameter from grid search estimation. \n",
    "oak_gsearch.best_estimator_"
   ]
  },
  {
   "cell_type": "code",
   "execution_count": null,
   "metadata": {},
   "outputs": [],
   "source": [
    "oak = DecisionTreeClassifier(criterion='entropy', max_depth=10, max_features='sqrt',min_samples_leaf=6, random_state=42)\n",
    "oak.fit(X_train,y_train)\n",
    "#tree.plot_tree(oak)\n",
    "y_test_predicted = oak.predict(X_test)\n",
    "\n",
    "X_DT = raw_df.iloc[:,:-1]\n",
    "y_DT = raw_df[\"disease\"]\n",
    "\n",
    "#Carries cross validation (see previouslt defined function). \n",
    "metrics_DTC = strat_valid(X_DT, y_DT, oak)\n",
    "metrics_DTC"
   ]
  },
  {
   "cell_type": "code",
   "execution_count": null,
   "metadata": {},
   "outputs": [],
   "source": [
    "#Determines feature importance based on DTC model\n",
    "ft_import = oak.feature_importances_\n",
    "\n",
    "#Sorts features from most important to least important.\n",
    "sorted_idx = ft_import.argsort()[::-1]\n",
    "name_sort = imputed_df.columns[sorted_idx]\n",
    "importa_sort = ft_import[sorted_idx]\n",
    "\n",
    "#Plot importances \n",
    "sns.set(rc={'figure.figsize':(11.7,8.27)})\n",
    "sns.barplot(x=importa_sort, y=name_sort, palette=\"viridis\")\n",
    "plt.title(\"Feature importance based on Gini impurity with DTC model\", fontsize= 20)\n",
    "plt.xlabel(\"Feature importance\", fontsize= 15)"
   ]
  },
  {
   "cell_type": "markdown",
   "metadata": {},
   "source": [
    "**Removing most important feature for Decision Tree Classifier** \n",
    "\n",
    "According to Gini impurity reduction score, the most important feature is high blood pressure, which contributes to ~27% for the reduction of gene impurity."
   ]
  },
  {
   "cell_type": "code",
   "execution_count": 11,
   "metadata": {},
   "outputs": [
    {
     "ename": "NameError",
     "evalue": "name 'X_train' is not defined",
     "output_type": "error",
     "traceback": [
      "\u001b[0;31m---------------------------------------------------------------------------\u001b[0m",
      "\u001b[0;31mNameError\u001b[0m                                 Traceback (most recent call last)",
      "\u001b[0;32m/var/folders/v1/ymptnwwx3x1b7_mw0nns09wr0000gn/T/ipykernel_12013/1338228939.py\u001b[0m in \u001b[0;36m<module>\u001b[0;34m\u001b[0m\n\u001b[1;32m      8\u001b[0m \u001b[0;31m#define DecisionTree model and determine best hyperparameters with GridSearchCV.\u001b[0m\u001b[0;34m\u001b[0m\u001b[0;34m\u001b[0m\u001b[0m\n\u001b[1;32m      9\u001b[0m \u001b[0moak\u001b[0m \u001b[0;34m=\u001b[0m \u001b[0mDecisionTreeClassifier\u001b[0m\u001b[0;34m(\u001b[0m\u001b[0mrandom_state\u001b[0m\u001b[0;34m=\u001b[0m\u001b[0;36m42\u001b[0m\u001b[0;34m)\u001b[0m\u001b[0;34m\u001b[0m\u001b[0;34m\u001b[0m\u001b[0m\n\u001b[0;32m---> 10\u001b[0;31m \u001b[0moak\u001b[0m\u001b[0;34m.\u001b[0m\u001b[0mfit\u001b[0m\u001b[0;34m(\u001b[0m\u001b[0mX_train\u001b[0m\u001b[0;34m.\u001b[0m\u001b[0mdrop\u001b[0m\u001b[0;34m(\u001b[0m\u001b[0mcolumns\u001b[0m\u001b[0;34m=\u001b[0m\u001b[0;34m[\u001b[0m\u001b[0;34m\"high_bp\"\u001b[0m\u001b[0;34m]\u001b[0m\u001b[0;34m)\u001b[0m\u001b[0;34m,\u001b[0m\u001b[0my_train\u001b[0m\u001b[0;34m)\u001b[0m\u001b[0;34m\u001b[0m\u001b[0;34m\u001b[0m\u001b[0m\n\u001b[0m\u001b[1;32m     11\u001b[0m \u001b[0moak_gsearch\u001b[0m \u001b[0;34m=\u001b[0m \u001b[0mGridSearchCV\u001b[0m\u001b[0;34m(\u001b[0m\u001b[0moak\u001b[0m\u001b[0;34m,\u001b[0m \u001b[0mparameters\u001b[0m\u001b[0;34m,\u001b[0m \u001b[0mcv\u001b[0m\u001b[0;34m=\u001b[0m\u001b[0;36m5\u001b[0m\u001b[0;34m,\u001b[0m\u001b[0mscoring\u001b[0m\u001b[0;34m=\u001b[0m\u001b[0;34m'balanced_accuracy'\u001b[0m\u001b[0;34m)\u001b[0m \u001b[0;31m# weighted == F1 Measure for multi-class\u001b[0m\u001b[0;34m\u001b[0m\u001b[0;34m\u001b[0m\u001b[0m\n\u001b[1;32m     12\u001b[0m \u001b[0mgrid_search\u001b[0m \u001b[0;34m=\u001b[0m \u001b[0moak_gsearch\u001b[0m\u001b[0;34m.\u001b[0m\u001b[0mfit\u001b[0m\u001b[0;34m(\u001b[0m\u001b[0mX_train\u001b[0m\u001b[0;34m.\u001b[0m\u001b[0mdrop\u001b[0m\u001b[0;34m(\u001b[0m\u001b[0mcolumns\u001b[0m\u001b[0;34m=\u001b[0m\u001b[0;34m[\u001b[0m\u001b[0;34m\"high_bp\"\u001b[0m\u001b[0;34m]\u001b[0m\u001b[0;34m)\u001b[0m\u001b[0;34m,\u001b[0m \u001b[0my_train\u001b[0m\u001b[0;34m)\u001b[0m\u001b[0;34m\u001b[0m\u001b[0;34m\u001b[0m\u001b[0m\n",
      "\u001b[0;31mNameError\u001b[0m: name 'X_train' is not defined"
     ]
    }
   ],
   "source": [
    "#Randomly determines Decision tree hyper-parameters and checks all possible combinations to use. \n",
    "parameters = {\n",
    "    'criterion':('gini', 'entropy'), \n",
    "    'max_depth':[1,2,3,4,5,6,7,8,9,10],\n",
    "    'min_samples_leaf':[2,5,6,7,8,10,11],\n",
    "    \"max_features\":(\"sqrt\", \"log2\")\n",
    "}\n",
    "#define DecisionTree model and determine best hyperparameters with GridSearchCV. \n",
    "oak = DecisionTreeClassifier(random_state=42)\n",
    "oak.fit(X_train.drop(columns=[\"high_bp\"]),y_train)\n",
    "oak_gsearch = GridSearchCV(oak, parameters, cv=5,scoring='balanced_accuracy') # weighted == F1 Measure for multi-class\n",
    "grid_search = oak_gsearch.fit(X_train.drop(columns=[\"high_bp\"]), y_train)\n",
    "\n",
    "#Outputs best parameter from grid search estimation. \n",
    "oak_gsearch.best_estimator_"
   ]
  },
  {
   "cell_type": "code",
   "execution_count": null,
   "metadata": {},
   "outputs": [],
   "source": [
    "oak = DecisionTreeClassifier(criterion='entropy', max_depth=8, max_features='sqrt',min_samples_leaf=7, random_state=42)\n",
    "oak.fit(X_train.drop(columns=[\"high_bp\"]),y_train)\n",
    "#tree.plot_tree(oak)\n",
    "y_test_predicted = oak.predict(X_test.drop(columns=[\"high_bp\"]))\n",
    "\n",
    "X_DT = raw_df.iloc[:,:-1]\n",
    "y_DT = raw_df[\"disease\"]\n",
    "\n",
    "#Carries cross validation (see previouslt defined function). \n",
    "rm_ft_metrics = strat_valid(X_DT.drop(columns=[\"high_bp\"]), y_DT, oak, \n",
    "                            categories= ['gender', 'high_chol', \"walking_diff\",'chol_check', 'history_stroke', 'history_heart_disease', 'amount_activity', 'fruits', 'vegetables'], \n",
    "                            numerical=[ 'health_gen', 'health_ment', 'health_phys',\"alcohol_misuse\"])\n",
    "rm_ft_metrics"
   ]
  },
  {
   "cell_type": "code",
   "execution_count": null,
   "metadata": {},
   "outputs": [],
   "source": []
  }
 ],
 "metadata": {
  "kernelspec": {
   "display_name": "Python 3 (ipykernel)",
   "language": "python",
   "name": "python3"
  },
  "language_info": {
   "codemirror_mode": {
    "name": "ipython",
    "version": 3
   },
   "file_extension": ".py",
   "mimetype": "text/x-python",
   "name": "python",
   "nbconvert_exporter": "python",
   "pygments_lexer": "ipython3",
   "version": "3.9.13"
  }
 },
 "nbformat": 4,
 "nbformat_minor": 4
}
